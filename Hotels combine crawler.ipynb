{
 "cells": [
  {
   "cell_type": "code",
   "execution_count": 1,
   "id": "1ee87727",
   "metadata": {
    "scrolled": true
   },
   "outputs": [
    {
     "name": "stdout",
     "output_type": "stream",
     "text": [
      "Defaulting to user installation because normal site-packages is not writeable\n",
      "Requirement already satisfied: selenium==4.6.0 in c:\\users\\ghjeo\\appdata\\roaming\\python\\python310\\site-packages (4.6.0)\n",
      "Requirement already satisfied: urllib3[socks]~=1.26 in c:\\programdata\\anaconda3\\envs\\nextop_project\\lib\\site-packages (from selenium==4.6.0) (1.26.9)\n",
      "Requirement already satisfied: trio-websocket~=0.9 in c:\\users\\ghjeo\\appdata\\roaming\\python\\python310\\site-packages (from selenium==4.6.0) (0.9.2)\n",
      "Requirement already satisfied: certifi>=2021.10.8 in c:\\programdata\\anaconda3\\envs\\nextop_project\\lib\\site-packages (from selenium==4.6.0) (2022.9.24)\n",
      "Requirement already satisfied: trio~=0.17 in c:\\users\\ghjeo\\appdata\\roaming\\python\\python310\\site-packages (from selenium==4.6.0) (0.22.0)\n",
      "Requirement already satisfied: attrs>=19.2.0 in c:\\users\\ghjeo\\appdata\\roaming\\python\\python310\\site-packages (from trio~=0.17->selenium==4.6.0) (22.1.0)\n",
      "Requirement already satisfied: idna in c:\\programdata\\anaconda3\\envs\\nextop_project\\lib\\site-packages (from trio~=0.17->selenium==4.6.0) (3.3)\n",
      "Requirement already satisfied: sniffio in c:\\users\\ghjeo\\appdata\\roaming\\python\\python310\\site-packages (from trio~=0.17->selenium==4.6.0) (1.3.0)\n",
      "Requirement already satisfied: async-generator>=1.9 in c:\\users\\ghjeo\\appdata\\roaming\\python\\python310\\site-packages (from trio~=0.17->selenium==4.6.0) (1.10)\n",
      "Requirement already satisfied: cffi>=1.14 in c:\\programdata\\anaconda3\\envs\\nextop_project\\lib\\site-packages (from trio~=0.17->selenium==4.6.0) (1.15.0)\n",
      "Requirement already satisfied: exceptiongroup>=1.0.0rc9 in c:\\users\\ghjeo\\appdata\\roaming\\python\\python310\\site-packages (from trio~=0.17->selenium==4.6.0) (1.0.3)\n",
      "Requirement already satisfied: outcome in c:\\users\\ghjeo\\appdata\\roaming\\python\\python310\\site-packages (from trio~=0.17->selenium==4.6.0) (1.2.0)\n",
      "Requirement already satisfied: sortedcontainers in c:\\users\\ghjeo\\appdata\\roaming\\python\\python310\\site-packages (from trio~=0.17->selenium==4.6.0) (2.4.0)\n",
      "Requirement already satisfied: pycparser in c:\\programdata\\anaconda3\\envs\\nextop_project\\lib\\site-packages (from cffi>=1.14->trio~=0.17->selenium==4.6.0) (2.21)\n",
      "Requirement already satisfied: wsproto>=0.14 in c:\\users\\ghjeo\\appdata\\roaming\\python\\python310\\site-packages (from trio-websocket~=0.9->selenium==4.6.0) (1.2.0)\n",
      "Requirement already satisfied: PySocks!=1.5.7,<2.0,>=1.5.6 in c:\\programdata\\anaconda3\\envs\\nextop_project\\lib\\site-packages (from urllib3[socks]~=1.26->selenium==4.6.0) (1.7.1)\n",
      "Requirement already satisfied: h11<1,>=0.9.0 in c:\\users\\ghjeo\\appdata\\roaming\\python\\python310\\site-packages (from wsproto>=0.14->trio-websocket~=0.9->selenium==4.6.0) (0.14.0)\n",
      "Defaulting to user installation because normal site-packages is not writeable\n",
      "Collecting webdriver-manager==3.8.5\n",
      "  Downloading webdriver_manager-3.8.5-py2.py3-none-any.whl (27 kB)\n",
      "Requirement already satisfied: python-dotenv in c:\\users\\ghjeo\\appdata\\roaming\\python\\python310\\site-packages (from webdriver-manager==3.8.5) (0.21.0)\n",
      "Collecting tqdm\n",
      "  Downloading tqdm-4.64.1-py2.py3-none-any.whl (78 kB)\n",
      "Requirement already satisfied: requests in c:\\users\\ghjeo\\appdata\\roaming\\python\\python310\\site-packages (from webdriver-manager==3.8.5) (2.28.1)\n",
      "Requirement already satisfied: packaging in c:\\users\\ghjeo\\appdata\\roaming\\python\\python310\\site-packages (from webdriver-manager==3.8.5) (21.3)\n",
      "Requirement already satisfied: pyparsing!=3.0.5,>=2.0.2 in c:\\users\\ghjeo\\appdata\\roaming\\python\\python310\\site-packages (from packaging->webdriver-manager==3.8.5) (3.0.9)\n",
      "Requirement already satisfied: idna<4,>=2.5 in c:\\programdata\\anaconda3\\envs\\nextop_project\\lib\\site-packages (from requests->webdriver-manager==3.8.5) (3.3)\n",
      "Requirement already satisfied: certifi>=2017.4.17 in c:\\programdata\\anaconda3\\envs\\nextop_project\\lib\\site-packages (from requests->webdriver-manager==3.8.5) (2022.9.24)\n",
      "Requirement already satisfied: urllib3<1.27,>=1.21.1 in c:\\programdata\\anaconda3\\envs\\nextop_project\\lib\\site-packages (from requests->webdriver-manager==3.8.5) (1.26.9)\n",
      "Requirement already satisfied: charset-normalizer<3,>=2 in c:\\users\\ghjeo\\appdata\\roaming\\python\\python310\\site-packages (from requests->webdriver-manager==3.8.5) (2.1.1)\n",
      "Requirement already satisfied: colorama in c:\\programdata\\anaconda3\\envs\\nextop_project\\lib\\site-packages (from tqdm->webdriver-manager==3.8.5) (0.4.5)\n",
      "Installing collected packages: tqdm, webdriver-manager\n",
      "  Attempting uninstall: webdriver-manager\n",
      "    Found existing installation: webdriver-manager 3.7.1\n",
      "    Uninstalling webdriver-manager-3.7.1:\n",
      "      Successfully uninstalled webdriver-manager-3.7.1\n",
      "Successfully installed tqdm-4.64.1 webdriver-manager-3.8.5\n"
     ]
    },
    {
     "name": "stderr",
     "output_type": "stream",
     "text": [
      "  WARNING: The script tqdm.exe is installed in 'C:\\Users\\ghjeo\\AppData\\Roaming\\Python\\Python310\\Scripts' which is not on PATH.\n",
      "  Consider adding this directory to PATH or, if you prefer to suppress this warning, use --no-warn-script-location.\n"
     ]
    }
   ],
   "source": [
    "!pip3 install selenium==4.6.0\n",
    "!pip3 install webdriver-manager==3.8.5"
   ]
  },
  {
   "cell_type": "markdown",
   "id": "41b4a630",
   "metadata": {},
   "source": [
    "https://files.pythonhosted.org/packages/c7/35/721fde638ea1ed2f32851f89544d04dab573ff629496f0275f4e7d5f5f29/selenium-4.6.0-py3-none-any.whl"
   ]
  },
  {
   "cell_type": "code",
   "execution_count": 10,
   "id": "1a28f2d5",
   "metadata": {},
   "outputs": [
    {
     "name": "stdout",
     "output_type": "stream",
     "text": [
      "Processing ./selenium-4.6.0-py3-none-any.whl\n",
      "Requirement already satisfied: trio-websocket~=0.9 in ./crawl-venv/lib/python3.9/site-packages (from selenium==4.6.0) (0.9.2)\n",
      "Requirement already satisfied: trio~=0.17 in ./crawl-venv/lib/python3.9/site-packages (from selenium==4.6.0) (0.22.0)\n",
      "Requirement already satisfied: urllib3[socks]~=1.26 in ./crawl-venv/lib/python3.9/site-packages (from selenium==4.6.0) (1.26.12)\n",
      "Requirement already satisfied: certifi>=2021.10.8 in ./crawl-venv/lib/python3.9/site-packages (from selenium==4.6.0) (2022.9.24)\n",
      "Requirement already satisfied: async-generator>=1.10 in ./crawl-venv/lib/python3.9/site-packages (from trio-websocket~=0.9->selenium==4.6.0) (1.10)\n",
      "Requirement already satisfied: wsproto>=0.14 in ./crawl-venv/lib/python3.9/site-packages (from trio-websocket~=0.9->selenium==4.6.0) (1.2.0)\n",
      "Requirement already satisfied: sniffio in ./crawl-venv/lib/python3.9/site-packages (from trio~=0.17->selenium==4.6.0) (1.3.0)\n",
      "Requirement already satisfied: attrs>=19.2.0 in ./crawl-venv/lib/python3.9/site-packages (from trio~=0.17->selenium==4.6.0) (22.1.0)\n",
      "Requirement already satisfied: exceptiongroup>=1.0.0rc9; python_version < \"3.11\" in ./crawl-venv/lib/python3.9/site-packages (from trio~=0.17->selenium==4.6.0) (1.0.1)\n",
      "Requirement already satisfied: outcome in ./crawl-venv/lib/python3.9/site-packages (from trio~=0.17->selenium==4.6.0) (1.2.0)\n",
      "Requirement already satisfied: sortedcontainers in ./crawl-venv/lib/python3.9/site-packages (from trio~=0.17->selenium==4.6.0) (2.4.0)\n",
      "Requirement already satisfied: idna in ./crawl-venv/lib/python3.9/site-packages (from trio~=0.17->selenium==4.6.0) (3.4)\n",
      "Requirement already satisfied: PySocks!=1.5.7,<2.0,>=1.5.6; extra == \"socks\" in ./crawl-venv/lib/python3.9/site-packages (from urllib3[socks]~=1.26->selenium==4.6.0) (1.7.1)\n",
      "Requirement already satisfied: h11<1,>=0.9.0 in ./crawl-venv/lib/python3.9/site-packages (from wsproto>=0.14->trio-websocket~=0.9->selenium==4.6.0) (0.14.0)\n",
      "Installing collected packages: selenium\n",
      "  Attempting uninstall: selenium\n",
      "    Found existing installation: selenium 4.0.0a7\n",
      "    Uninstalling selenium-4.0.0a7:\n",
      "      Successfully uninstalled selenium-4.0.0a7\n",
      "Successfully installed selenium-4.6.0\n",
      "\u001b[33mWARNING: You are using pip version 20.2.3; however, version 22.3.1 is available.\n",
      "You should consider upgrading via the '/Users/stories2/Documents/GitHub/python-data-crawler/crawl-venv/bin/python3 -m pip install --upgrade pip' command.\u001b[0m\n"
     ]
    }
   ],
   "source": [
    "# !python3 -m pip install ./selenium-4.6.0-py3-none-any.whl"
   ]
  },
  {
   "cell_type": "code",
   "execution_count": 3,
   "id": "6686f06d",
   "metadata": {},
   "outputs": [
    {
     "name": "stdout",
     "output_type": "stream",
     "text": [
      "Python 3.10.8\n"
     ]
    }
   ],
   "source": [
    "!python --version"
   ]
  },
  {
   "cell_type": "code",
   "execution_count": 4,
   "id": "65987351",
   "metadata": {},
   "outputs": [
    {
     "name": "stderr",
     "output_type": "stream",
     "text": [
      "[WDM] - Downloading: 100%|██████████| 6.46M/6.46M [00:01<00:00, 5.05MB/s]\n"
     ]
    }
   ],
   "source": [
    "from selenium import webdriver\n",
    "from selenium.webdriver.common.by import By\n",
    "\n",
    "from webdriver_manager.chrome import ChromeDriverManager\n",
    "from webdriver_manager.core.utils import ChromeType\n",
    "from selenium.webdriver.chrome.options import Options\n",
    "from selenium.webdriver.chrome.service import Service\n",
    "\n",
    "import os\n",
    "\n",
    "from IPython import display\n",
    "from base64 import b64decode\n",
    "\n",
    "chrome_service = Service(ChromeDriverManager().install())"
   ]
  },
  {
   "cell_type": "code",
   "execution_count": 5,
   "id": "90aa262a",
   "metadata": {},
   "outputs": [],
   "source": [
    "# Get environment variables\n",
    "IS_GITHUB_ACTION = os.getenv('IS_GITHUB_ACTION')"
   ]
  },
  {
   "cell_type": "code",
   "execution_count": 6,
   "id": "5c8c1723",
   "metadata": {},
   "outputs": [],
   "source": [
    "chrome_options = Options()\n",
    "if IS_GITHUB_ACTION:\n",
    "    options = [\n",
    "        \"--headless\",\n",
    "        \"--disable-gpu\",\n",
    "        \"--window-size=1920,1080\",\n",
    "        \"--ignore-certificate-errors\",\n",
    "        \"--disable-extensions\",\n",
    "        \"--no-sandbox\",\n",
    "        \"--disable-dev-shm-usage\"\n",
    "    ]\n",
    "    user_agent = 'Mozilla/5.0 (X11; Linux x86_64) AppleWebKit/537.36 (KHTML, like Gecko) Chrome/60.0.3112.50 Safari/537.36'    \n",
    "    chrome_options.add_argument('user-agent={0}'.format(user_agent))\n",
    "    for option in options:\n",
    "        chrome_options.add_argument(option)"
   ]
  },
  {
   "cell_type": "code",
   "execution_count": 7,
   "id": "e3dad9f0",
   "metadata": {},
   "outputs": [],
   "source": [
    "browser = webdriver.Chrome(service=chrome_service, options=chrome_options)\n",
    "browser.set_window_size(1920, 1080)\n",
    "browser.get('https://www.hotelscombined.co.kr/hotels/')"
   ]
  },
  {
   "cell_type": "code",
   "execution_count": 8,
   "id": "c6a60ffb",
   "metadata": {},
   "outputs": [
    {
     "ename": "NoSuchElementException",
     "evalue": "Message: no such element: Unable to locate element: {\"method\":\"css selector\",\"selector\":\"#ZG5G-accept\"}\n  (Session info: chrome=107.0.5304.121)\nStacktrace:\nBacktrace:\n\tOrdinal0 [0x0100ACD3+2075859]\n\tOrdinal0 [0x00F9EE61+1633889]\n\tOrdinal0 [0x00E9B7BD+571325]\n\tOrdinal0 [0x00ECAC2F+764975]\n\tOrdinal0 [0x00ECAE1B+765467]\n\tOrdinal0 [0x00EFD0F2+970994]\n\tOrdinal0 [0x00EE7364+881508]\n\tOrdinal0 [0x00EFB56A+963946]\n\tOrdinal0 [0x00EE7136+880950]\n\tOrdinal0 [0x00EBFEFD+720637]\n\tOrdinal0 [0x00EC0F3F+724799]\n\tGetHandleVerifier [0x012BEED2+2769538]\n\tGetHandleVerifier [0x012B0D95+2711877]\n\tGetHandleVerifier [0x0109A03A+521194]\n\tGetHandleVerifier [0x01098DA0+516432]\n\tOrdinal0 [0x00FA682C+1665068]\n\tOrdinal0 [0x00FAB128+1683752]\n\tOrdinal0 [0x00FAB215+1683989]\n\tOrdinal0 [0x00FB6484+1729668]\n\tBaseThreadInitThunk [0x76D47BA9+25]\n\tRtlInitializeExceptionChain [0x777CBB9B+107]\n\tRtlClearBits [0x777CBB1F+191]\n",
     "output_type": "error",
     "traceback": [
      "\u001b[1;31m---------------------------------------------------------------------------\u001b[0m",
      "\u001b[1;31mNoSuchElementException\u001b[0m                    Traceback (most recent call last)",
      "Cell \u001b[1;32mIn [8], line 1\u001b[0m\n\u001b[1;32m----> 1\u001b[0m browser\u001b[39m.\u001b[39;49mfind_element(By\u001b[39m.\u001b[39;49mCSS_SELECTOR, \u001b[39m'\u001b[39;49m\u001b[39m#ZG5G-accept\u001b[39;49m\u001b[39m'\u001b[39;49m)\u001b[39m.\u001b[39mclick()\n",
      "File \u001b[1;32m~\\AppData\\Roaming\\Python\\Python310\\site-packages\\selenium\\webdriver\\remote\\webdriver.py:861\u001b[0m, in \u001b[0;36mWebDriver.find_element\u001b[1;34m(self, by, value)\u001b[0m\n\u001b[0;32m    858\u001b[0m     by \u001b[39m=\u001b[39m By\u001b[39m.\u001b[39mCSS_SELECTOR\n\u001b[0;32m    859\u001b[0m     value \u001b[39m=\u001b[39m \u001b[39m'\u001b[39m\u001b[39m[name=\u001b[39m\u001b[39m\"\u001b[39m\u001b[39m%s\u001b[39;00m\u001b[39m\"\u001b[39m\u001b[39m]\u001b[39m\u001b[39m'\u001b[39m \u001b[39m%\u001b[39m value\n\u001b[1;32m--> 861\u001b[0m \u001b[39mreturn\u001b[39;00m \u001b[39mself\u001b[39;49m\u001b[39m.\u001b[39;49mexecute(Command\u001b[39m.\u001b[39;49mFIND_ELEMENT, {\u001b[39m\"\u001b[39;49m\u001b[39musing\u001b[39;49m\u001b[39m\"\u001b[39;49m: by, \u001b[39m\"\u001b[39;49m\u001b[39mvalue\u001b[39;49m\u001b[39m\"\u001b[39;49m: value})[\u001b[39m\"\u001b[39m\u001b[39mvalue\u001b[39m\u001b[39m\"\u001b[39m]\n",
      "File \u001b[1;32m~\\AppData\\Roaming\\Python\\Python310\\site-packages\\selenium\\webdriver\\remote\\webdriver.py:444\u001b[0m, in \u001b[0;36mWebDriver.execute\u001b[1;34m(self, driver_command, params)\u001b[0m\n\u001b[0;32m    442\u001b[0m response \u001b[39m=\u001b[39m \u001b[39mself\u001b[39m\u001b[39m.\u001b[39mcommand_executor\u001b[39m.\u001b[39mexecute(driver_command, params)\n\u001b[0;32m    443\u001b[0m \u001b[39mif\u001b[39;00m response:\n\u001b[1;32m--> 444\u001b[0m     \u001b[39mself\u001b[39;49m\u001b[39m.\u001b[39;49merror_handler\u001b[39m.\u001b[39;49mcheck_response(response)\n\u001b[0;32m    445\u001b[0m     response[\u001b[39m\"\u001b[39m\u001b[39mvalue\u001b[39m\u001b[39m\"\u001b[39m] \u001b[39m=\u001b[39m \u001b[39mself\u001b[39m\u001b[39m.\u001b[39m_unwrap_value(response\u001b[39m.\u001b[39mget(\u001b[39m\"\u001b[39m\u001b[39mvalue\u001b[39m\u001b[39m\"\u001b[39m, \u001b[39mNone\u001b[39;00m))\n\u001b[0;32m    446\u001b[0m     \u001b[39mreturn\u001b[39;00m response\n",
      "File \u001b[1;32m~\\AppData\\Roaming\\Python\\Python310\\site-packages\\selenium\\webdriver\\remote\\errorhandler.py:249\u001b[0m, in \u001b[0;36mErrorHandler.check_response\u001b[1;34m(self, response)\u001b[0m\n\u001b[0;32m    247\u001b[0m         alert_text \u001b[39m=\u001b[39m value[\u001b[39m\"\u001b[39m\u001b[39malert\u001b[39m\u001b[39m\"\u001b[39m]\u001b[39m.\u001b[39mget(\u001b[39m\"\u001b[39m\u001b[39mtext\u001b[39m\u001b[39m\"\u001b[39m)\n\u001b[0;32m    248\u001b[0m     \u001b[39mraise\u001b[39;00m exception_class(message, screen, stacktrace, alert_text)  \u001b[39m# type: ignore[call-arg]  # mypy is not smart enough here\u001b[39;00m\n\u001b[1;32m--> 249\u001b[0m \u001b[39mraise\u001b[39;00m exception_class(message, screen, stacktrace)\n",
      "\u001b[1;31mNoSuchElementException\u001b[0m: Message: no such element: Unable to locate element: {\"method\":\"css selector\",\"selector\":\"#ZG5G-accept\"}\n  (Session info: chrome=107.0.5304.121)\nStacktrace:\nBacktrace:\n\tOrdinal0 [0x0100ACD3+2075859]\n\tOrdinal0 [0x00F9EE61+1633889]\n\tOrdinal0 [0x00E9B7BD+571325]\n\tOrdinal0 [0x00ECAC2F+764975]\n\tOrdinal0 [0x00ECAE1B+765467]\n\tOrdinal0 [0x00EFD0F2+970994]\n\tOrdinal0 [0x00EE7364+881508]\n\tOrdinal0 [0x00EFB56A+963946]\n\tOrdinal0 [0x00EE7136+880950]\n\tOrdinal0 [0x00EBFEFD+720637]\n\tOrdinal0 [0x00EC0F3F+724799]\n\tGetHandleVerifier [0x012BEED2+2769538]\n\tGetHandleVerifier [0x012B0D95+2711877]\n\tGetHandleVerifier [0x0109A03A+521194]\n\tGetHandleVerifier [0x01098DA0+516432]\n\tOrdinal0 [0x00FA682C+1665068]\n\tOrdinal0 [0x00FAB128+1683752]\n\tOrdinal0 [0x00FAB215+1683989]\n\tOrdinal0 [0x00FB6484+1729668]\n\tBaseThreadInitThunk [0x76D47BA9+25]\n\tRtlInitializeExceptionChain [0x777CBB9B+107]\n\tRtlClearBits [0x777CBB1F+191]\n"
     ]
    }
   ],
   "source": [
    "browser.find_element(By.CSS_SELECTOR, '#ZG5G-accept').click() \n",
    "# ZG5G-accept"
   ]
  },
  {
   "cell_type": "code",
   "execution_count": 9,
   "id": "4ccc25a8",
   "metadata": {},
   "outputs": [
    {
     "ename": "NoSuchElementException",
     "evalue": "Message: no such element: Unable to locate element: {\"method\":\"css selector\",\"selector\":\"#vsni > div > div\"}\n  (Session info: chrome=107.0.5304.121)\nStacktrace:\nBacktrace:\n\tOrdinal0 [0x0100ACD3+2075859]\n\tOrdinal0 [0x00F9EE61+1633889]\n\tOrdinal0 [0x00E9B7BD+571325]\n\tOrdinal0 [0x00ECAC2F+764975]\n\tOrdinal0 [0x00ECAE1B+765467]\n\tOrdinal0 [0x00EFD0F2+970994]\n\tOrdinal0 [0x00EE7364+881508]\n\tOrdinal0 [0x00EFB56A+963946]\n\tOrdinal0 [0x00EE7136+880950]\n\tOrdinal0 [0x00EBFEFD+720637]\n\tOrdinal0 [0x00EC0F3F+724799]\n\tGetHandleVerifier [0x012BEED2+2769538]\n\tGetHandleVerifier [0x012B0D95+2711877]\n\tGetHandleVerifier [0x0109A03A+521194]\n\tGetHandleVerifier [0x01098DA0+516432]\n\tOrdinal0 [0x00FA682C+1665068]\n\tOrdinal0 [0x00FAB128+1683752]\n\tOrdinal0 [0x00FAB215+1683989]\n\tOrdinal0 [0x00FB6484+1729668]\n\tBaseThreadInitThunk [0x76D47BA9+25]\n\tRtlInitializeExceptionChain [0x777CBB9B+107]\n\tRtlClearBits [0x777CBB1F+191]\n",
     "output_type": "error",
     "traceback": [
      "\u001b[1;31m---------------------------------------------------------------------------\u001b[0m",
      "\u001b[1;31mNoSuchElementException\u001b[0m                    Traceback (most recent call last)",
      "Cell \u001b[1;32mIn [9], line 2\u001b[0m\n\u001b[0;32m      1\u001b[0m \u001b[39m#vsni > div > div > div.HPw7-form-fields\u001b[39;00m\n\u001b[1;32m----> 2\u001b[0m form \u001b[39m=\u001b[39m browser\u001b[39m.\u001b[39;49mfind_element(By\u001b[39m.\u001b[39;49mCSS_SELECTOR, \u001b[39m'\u001b[39;49m\u001b[39m#vsni > div > div\u001b[39;49m\u001b[39m'\u001b[39;49m)\n\u001b[0;32m      3\u001b[0m form\n\u001b[0;32m      4\u001b[0m display\u001b[39m.\u001b[39mImage(b64decode(form\u001b[39m.\u001b[39mscreenshot_as_base64))\n",
      "File \u001b[1;32m~\\AppData\\Roaming\\Python\\Python310\\site-packages\\selenium\\webdriver\\remote\\webdriver.py:861\u001b[0m, in \u001b[0;36mWebDriver.find_element\u001b[1;34m(self, by, value)\u001b[0m\n\u001b[0;32m    858\u001b[0m     by \u001b[39m=\u001b[39m By\u001b[39m.\u001b[39mCSS_SELECTOR\n\u001b[0;32m    859\u001b[0m     value \u001b[39m=\u001b[39m \u001b[39m'\u001b[39m\u001b[39m[name=\u001b[39m\u001b[39m\"\u001b[39m\u001b[39m%s\u001b[39;00m\u001b[39m\"\u001b[39m\u001b[39m]\u001b[39m\u001b[39m'\u001b[39m \u001b[39m%\u001b[39m value\n\u001b[1;32m--> 861\u001b[0m \u001b[39mreturn\u001b[39;00m \u001b[39mself\u001b[39;49m\u001b[39m.\u001b[39;49mexecute(Command\u001b[39m.\u001b[39;49mFIND_ELEMENT, {\u001b[39m\"\u001b[39;49m\u001b[39musing\u001b[39;49m\u001b[39m\"\u001b[39;49m: by, \u001b[39m\"\u001b[39;49m\u001b[39mvalue\u001b[39;49m\u001b[39m\"\u001b[39;49m: value})[\u001b[39m\"\u001b[39m\u001b[39mvalue\u001b[39m\u001b[39m\"\u001b[39m]\n",
      "File \u001b[1;32m~\\AppData\\Roaming\\Python\\Python310\\site-packages\\selenium\\webdriver\\remote\\webdriver.py:444\u001b[0m, in \u001b[0;36mWebDriver.execute\u001b[1;34m(self, driver_command, params)\u001b[0m\n\u001b[0;32m    442\u001b[0m response \u001b[39m=\u001b[39m \u001b[39mself\u001b[39m\u001b[39m.\u001b[39mcommand_executor\u001b[39m.\u001b[39mexecute(driver_command, params)\n\u001b[0;32m    443\u001b[0m \u001b[39mif\u001b[39;00m response:\n\u001b[1;32m--> 444\u001b[0m     \u001b[39mself\u001b[39;49m\u001b[39m.\u001b[39;49merror_handler\u001b[39m.\u001b[39;49mcheck_response(response)\n\u001b[0;32m    445\u001b[0m     response[\u001b[39m\"\u001b[39m\u001b[39mvalue\u001b[39m\u001b[39m\"\u001b[39m] \u001b[39m=\u001b[39m \u001b[39mself\u001b[39m\u001b[39m.\u001b[39m_unwrap_value(response\u001b[39m.\u001b[39mget(\u001b[39m\"\u001b[39m\u001b[39mvalue\u001b[39m\u001b[39m\"\u001b[39m, \u001b[39mNone\u001b[39;00m))\n\u001b[0;32m    446\u001b[0m     \u001b[39mreturn\u001b[39;00m response\n",
      "File \u001b[1;32m~\\AppData\\Roaming\\Python\\Python310\\site-packages\\selenium\\webdriver\\remote\\errorhandler.py:249\u001b[0m, in \u001b[0;36mErrorHandler.check_response\u001b[1;34m(self, response)\u001b[0m\n\u001b[0;32m    247\u001b[0m         alert_text \u001b[39m=\u001b[39m value[\u001b[39m\"\u001b[39m\u001b[39malert\u001b[39m\u001b[39m\"\u001b[39m]\u001b[39m.\u001b[39mget(\u001b[39m\"\u001b[39m\u001b[39mtext\u001b[39m\u001b[39m\"\u001b[39m)\n\u001b[0;32m    248\u001b[0m     \u001b[39mraise\u001b[39;00m exception_class(message, screen, stacktrace, alert_text)  \u001b[39m# type: ignore[call-arg]  # mypy is not smart enough here\u001b[39;00m\n\u001b[1;32m--> 249\u001b[0m \u001b[39mraise\u001b[39;00m exception_class(message, screen, stacktrace)\n",
      "\u001b[1;31mNoSuchElementException\u001b[0m: Message: no such element: Unable to locate element: {\"method\":\"css selector\",\"selector\":\"#vsni > div > div\"}\n  (Session info: chrome=107.0.5304.121)\nStacktrace:\nBacktrace:\n\tOrdinal0 [0x0100ACD3+2075859]\n\tOrdinal0 [0x00F9EE61+1633889]\n\tOrdinal0 [0x00E9B7BD+571325]\n\tOrdinal0 [0x00ECAC2F+764975]\n\tOrdinal0 [0x00ECAE1B+765467]\n\tOrdinal0 [0x00EFD0F2+970994]\n\tOrdinal0 [0x00EE7364+881508]\n\tOrdinal0 [0x00EFB56A+963946]\n\tOrdinal0 [0x00EE7136+880950]\n\tOrdinal0 [0x00EBFEFD+720637]\n\tOrdinal0 [0x00EC0F3F+724799]\n\tGetHandleVerifier [0x012BEED2+2769538]\n\tGetHandleVerifier [0x012B0D95+2711877]\n\tGetHandleVerifier [0x0109A03A+521194]\n\tGetHandleVerifier [0x01098DA0+516432]\n\tOrdinal0 [0x00FA682C+1665068]\n\tOrdinal0 [0x00FAB128+1683752]\n\tOrdinal0 [0x00FAB215+1683989]\n\tOrdinal0 [0x00FB6484+1729668]\n\tBaseThreadInitThunk [0x76D47BA9+25]\n\tRtlInitializeExceptionChain [0x777CBB9B+107]\n\tRtlClearBits [0x777CBB1F+191]\n"
     ]
    }
   ],
   "source": [
    "#vsni > div > div > div.HPw7-form-fields\n",
    "form = browser.find_element(By.CSS_SELECTOR, '#vsni > div > div')\n",
    "form\n",
    "display.Image(b64decode(form.screenshot_as_base64))"
   ]
  },
  {
   "cell_type": "code",
   "execution_count": 18,
   "id": "fd884900",
   "metadata": {},
   "outputs": [],
   "source": [
    "form.find_element(By.CSS_SELECTOR, '.HPw7-destination').click()"
   ]
  },
  {
   "cell_type": "code",
   "execution_count": 20,
   "id": "43cf9f48",
   "metadata": {},
   "outputs": [
    {
     "data": {
      "image/png": "[encoded data removed]",
      "text/plain": [
       "<IPython.core.display.Image object>"
      ]
     },
     "execution_count": 20,
     "metadata": {},
     "output_type": "execute_result"
    }
   ],
   "source": [
    "focusedElement = browser.switch_to.active_element\n",
    "focusedElement\n",
    "display.Image(b64decode(focusedElement.screenshot_as_base64))"
   ]
  },
  {
   "cell_type": "code",
   "execution_count": 23,
   "id": "9609d672",
   "metadata": {},
   "outputs": [],
   "source": [
    "focusedElement.clear()"
   ]
  },
  {
   "cell_type": "code",
   "execution_count": 25,
   "id": "56825749",
   "metadata": {},
   "outputs": [
    {
     "data": {
      "image/png": "[encoded data removed]",
      "text/plain": [
       "<IPython.core.display.Image object>"
      ]
     },
     "execution_count": 25,
     "metadata": {},
     "output_type": "execute_result"
    }
   ],
   "source": [
    "focusedElement.send_keys('도쿄')\n",
    "display.Image(b64decode(focusedElement.screenshot_as_base64))"
   ]
  },
  {
   "cell_type": "code",
   "execution_count": 10,
   "id": "2b16905e",
   "metadata": {},
   "outputs": [
    {
     "ename": "NoSuchElementException",
     "evalue": "Message: no such element: Unable to locate element: {\"method\":\"css selector\",\"selector\":\"div.c8GSD-wrapper\"}\n  (Session info: chrome=107.0.5304.121)\nStacktrace:\nBacktrace:\n\tOrdinal0 [0x0100ACD3+2075859]\n\tOrdinal0 [0x00F9EE61+1633889]\n\tOrdinal0 [0x00E9B7BD+571325]\n\tOrdinal0 [0x00ECAC2F+764975]\n\tOrdinal0 [0x00ECAE1B+765467]\n\tOrdinal0 [0x00EFD0F2+970994]\n\tOrdinal0 [0x00EE7364+881508]\n\tOrdinal0 [0x00EFB56A+963946]\n\tOrdinal0 [0x00EE7136+880950]\n\tOrdinal0 [0x00EBFEFD+720637]\n\tOrdinal0 [0x00EC0F3F+724799]\n\tGetHandleVerifier [0x012BEED2+2769538]\n\tGetHandleVerifier [0x012B0D95+2711877]\n\tGetHandleVerifier [0x0109A03A+521194]\n\tGetHandleVerifier [0x01098DA0+516432]\n\tOrdinal0 [0x00FA682C+1665068]\n\tOrdinal0 [0x00FAB128+1683752]\n\tOrdinal0 [0x00FAB215+1683989]\n\tOrdinal0 [0x00FB6484+1729668]\n\tBaseThreadInitThunk [0x76D47BA9+25]\n\tRtlInitializeExceptionChain [0x777CBB9B+107]\n\tRtlClearBits [0x777CBB1F+191]\n",
     "output_type": "error",
     "traceback": [
      "\u001b[1;31m---------------------------------------------------------------------------\u001b[0m",
      "\u001b[1;31mNoSuchElementException\u001b[0m                    Traceback (most recent call last)",
      "Cell \u001b[1;32mIn [10], line 2\u001b[0m\n\u001b[0;32m      1\u001b[0m \u001b[39m# focusedElement.find_element(By.CSS_SELECTOR, '.c8GSD-overlay-dropdown')\u001b[39;00m\n\u001b[1;32m----> 2\u001b[0m selector \u001b[39m=\u001b[39m browser\u001b[39m.\u001b[39;49mfind_element(By\u001b[39m.\u001b[39;49mCSS_SELECTOR, \u001b[39m'\u001b[39;49m\u001b[39mdiv.c8GSD-wrapper\u001b[39;49m\u001b[39m'\u001b[39;49m)\n\u001b[0;32m      3\u001b[0m display\u001b[39m.\u001b[39mImage(b64decode(selector\u001b[39m.\u001b[39mscreenshot_as_base64))\n",
      "File \u001b[1;32m~\\AppData\\Roaming\\Python\\Python310\\site-packages\\selenium\\webdriver\\remote\\webdriver.py:861\u001b[0m, in \u001b[0;36mWebDriver.find_element\u001b[1;34m(self, by, value)\u001b[0m\n\u001b[0;32m    858\u001b[0m     by \u001b[39m=\u001b[39m By\u001b[39m.\u001b[39mCSS_SELECTOR\n\u001b[0;32m    859\u001b[0m     value \u001b[39m=\u001b[39m \u001b[39m'\u001b[39m\u001b[39m[name=\u001b[39m\u001b[39m\"\u001b[39m\u001b[39m%s\u001b[39;00m\u001b[39m\"\u001b[39m\u001b[39m]\u001b[39m\u001b[39m'\u001b[39m \u001b[39m%\u001b[39m value\n\u001b[1;32m--> 861\u001b[0m \u001b[39mreturn\u001b[39;00m \u001b[39mself\u001b[39;49m\u001b[39m.\u001b[39;49mexecute(Command\u001b[39m.\u001b[39;49mFIND_ELEMENT, {\u001b[39m\"\u001b[39;49m\u001b[39musing\u001b[39;49m\u001b[39m\"\u001b[39;49m: by, \u001b[39m\"\u001b[39;49m\u001b[39mvalue\u001b[39;49m\u001b[39m\"\u001b[39;49m: value})[\u001b[39m\"\u001b[39m\u001b[39mvalue\u001b[39m\u001b[39m\"\u001b[39m]\n",
      "File \u001b[1;32m~\\AppData\\Roaming\\Python\\Python310\\site-packages\\selenium\\webdriver\\remote\\webdriver.py:444\u001b[0m, in \u001b[0;36mWebDriver.execute\u001b[1;34m(self, driver_command, params)\u001b[0m\n\u001b[0;32m    442\u001b[0m response \u001b[39m=\u001b[39m \u001b[39mself\u001b[39m\u001b[39m.\u001b[39mcommand_executor\u001b[39m.\u001b[39mexecute(driver_command, params)\n\u001b[0;32m    443\u001b[0m \u001b[39mif\u001b[39;00m response:\n\u001b[1;32m--> 444\u001b[0m     \u001b[39mself\u001b[39;49m\u001b[39m.\u001b[39;49merror_handler\u001b[39m.\u001b[39;49mcheck_response(response)\n\u001b[0;32m    445\u001b[0m     response[\u001b[39m\"\u001b[39m\u001b[39mvalue\u001b[39m\u001b[39m\"\u001b[39m] \u001b[39m=\u001b[39m \u001b[39mself\u001b[39m\u001b[39m.\u001b[39m_unwrap_value(response\u001b[39m.\u001b[39mget(\u001b[39m\"\u001b[39m\u001b[39mvalue\u001b[39m\u001b[39m\"\u001b[39m, \u001b[39mNone\u001b[39;00m))\n\u001b[0;32m    446\u001b[0m     \u001b[39mreturn\u001b[39;00m response\n",
      "File \u001b[1;32m~\\AppData\\Roaming\\Python\\Python310\\site-packages\\selenium\\webdriver\\remote\\errorhandler.py:249\u001b[0m, in \u001b[0;36mErrorHandler.check_response\u001b[1;34m(self, response)\u001b[0m\n\u001b[0;32m    247\u001b[0m         alert_text \u001b[39m=\u001b[39m value[\u001b[39m\"\u001b[39m\u001b[39malert\u001b[39m\u001b[39m\"\u001b[39m]\u001b[39m.\u001b[39mget(\u001b[39m\"\u001b[39m\u001b[39mtext\u001b[39m\u001b[39m\"\u001b[39m)\n\u001b[0;32m    248\u001b[0m     \u001b[39mraise\u001b[39;00m exception_class(message, screen, stacktrace, alert_text)  \u001b[39m# type: ignore[call-arg]  # mypy is not smart enough here\u001b[39;00m\n\u001b[1;32m--> 249\u001b[0m \u001b[39mraise\u001b[39;00m exception_class(message, screen, stacktrace)\n",
      "\u001b[1;31mNoSuchElementException\u001b[0m: Message: no such element: Unable to locate element: {\"method\":\"css selector\",\"selector\":\"div.c8GSD-wrapper\"}\n  (Session info: chrome=107.0.5304.121)\nStacktrace:\nBacktrace:\n\tOrdinal0 [0x0100ACD3+2075859]\n\tOrdinal0 [0x00F9EE61+1633889]\n\tOrdinal0 [0x00E9B7BD+571325]\n\tOrdinal0 [0x00ECAC2F+764975]\n\tOrdinal0 [0x00ECAE1B+765467]\n\tOrdinal0 [0x00EFD0F2+970994]\n\tOrdinal0 [0x00EE7364+881508]\n\tOrdinal0 [0x00EFB56A+963946]\n\tOrdinal0 [0x00EE7136+880950]\n\tOrdinal0 [0x00EBFEFD+720637]\n\tOrdinal0 [0x00EC0F3F+724799]\n\tGetHandleVerifier [0x012BEED2+2769538]\n\tGetHandleVerifier [0x012B0D95+2711877]\n\tGetHandleVerifier [0x0109A03A+521194]\n\tGetHandleVerifier [0x01098DA0+516432]\n\tOrdinal0 [0x00FA682C+1665068]\n\tOrdinal0 [0x00FAB128+1683752]\n\tOrdinal0 [0x00FAB215+1683989]\n\tOrdinal0 [0x00FB6484+1729668]\n\tBaseThreadInitThunk [0x76D47BA9+25]\n\tRtlInitializeExceptionChain [0x777CBB9B+107]\n\tRtlClearBits [0x777CBB1F+191]\n"
     ]
    }
   ],
   "source": [
    "# focusedElement.find_element(By.CSS_SELECTOR, '.c8GSD-overlay-dropdown')\n",
    "selector = browser.find_element(By.CSS_SELECTOR, 'div.c8GSD-wrapper')\n",
    "display.Image(b64decode(selector.screenshot_as_base64))"
   ]
  },
  {
   "cell_type": "code",
   "execution_count": 11,
   "id": "3ff5d57c",
   "metadata": {},
   "outputs": [
    {
     "ename": "NameError",
     "evalue": "name 'selector' is not defined",
     "output_type": "error",
     "traceback": [
      "\u001b[1;31m---------------------------------------------------------------------------\u001b[0m",
      "\u001b[1;31mNameError\u001b[0m                                 Traceback (most recent call last)",
      "Cell \u001b[1;32mIn [11], line 1\u001b[0m\n\u001b[1;32m----> 1\u001b[0m selectList \u001b[39m=\u001b[39m selector\u001b[39m.\u001b[39mfind_elements(By\u001b[39m.\u001b[39mTAG_NAME, \u001b[39m'\u001b[39m\u001b[39mli\u001b[39m\u001b[39m'\u001b[39m)\n\u001b[0;32m      2\u001b[0m \u001b[39mfor\u001b[39;00m select \u001b[39min\u001b[39;00m selectList:\n\u001b[0;32m      3\u001b[0m     \u001b[39mprint\u001b[39m(select\u001b[39m.\u001b[39mfind_element(By\u001b[39m.\u001b[39mCSS_SELECTOR, \u001b[39m'\u001b[39m\u001b[39m.JyN0-name\u001b[39m\u001b[39m'\u001b[39m)\u001b[39m.\u001b[39mtext)\n",
      "\u001b[1;31mNameError\u001b[0m: name 'selector' is not defined"
     ]
    }
   ],
   "source": [
    "selectList = selector.find_elements(By.TAG_NAME, 'li')\n",
    "for select in selectList:\n",
    "    print(select.find_element(By.CSS_SELECTOR, '.JyN0-name').text)"
   ]
  },
  {
   "cell_type": "code",
   "execution_count": 12,
   "id": "01378fc5",
   "metadata": {},
   "outputs": [],
   "source": [
    "browser.close()"
   ]
  },
  {
   "cell_type": "code",
   "execution_count": null,
   "id": "5b4dc0c5",
   "metadata": {},
   "outputs": [],
   "source": []
  }
 ],
 "metadata": {
  "kernelspec": {
   "display_name": "Python 3.10.8 ('nextop_project')",
   "language": "python",
   "name": "python3"
  },
  "language_info": {
   "codemirror_mode": {
    "name": "ipython",
    "version": 3
   },
   "file_extension": ".py",
   "mimetype": "text/x-python",
   "name": "python",
   "nbconvert_exporter": "python",
   "pygments_lexer": "ipython3",
   "version": "3.10.8"
  },
  "vscode": {
   "interpreter": {
    "hash": "4e10fcba4af91c07a120958ff8a3e77dc5003b9ab225e86fc35933a84ede6fda"
   }
  }
 },
 "nbformat": 4,
 "nbformat_minor": 5
}
