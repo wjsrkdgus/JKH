{
 "cells": [
  {
   "cell_type": "code",
   "execution_count": 3,
   "id": "4a11617f",
   "metadata": {},
   "outputs": [
    {
     "name": "stdout",
     "output_type": "stream",
     "text": [
      "Collecting selenium==4.0.0a7\n",
      "  Downloading selenium-4.0.0.a7-py3-none-any.whl (203 kB)\n",
      "\u001b[K     |████████████████████████████████| 203 kB 7.8 MB/s eta 0:00:01\n",
      "\u001b[?25hRequirement already satisfied: trio in ./crawl-venv/lib/python3.9/site-packages (from selenium==4.0.0a7) (0.22.0)\n",
      "Requirement already satisfied: trio-websocket in ./crawl-venv/lib/python3.9/site-packages (from selenium==4.0.0a7) (0.9.2)\n",
      "Requirement already satisfied: urllib3[secure] in ./crawl-venv/lib/python3.9/site-packages (from selenium==4.0.0a7) (1.26.12)\n",
      "Requirement already satisfied: sortedcontainers in ./crawl-venv/lib/python3.9/site-packages (from trio->selenium==4.0.0a7) (2.4.0)\n",
      "Requirement already satisfied: outcome in ./crawl-venv/lib/python3.9/site-packages (from trio->selenium==4.0.0a7) (1.2.0)\n",
      "Requirement already satisfied: async-generator>=1.9 in ./crawl-venv/lib/python3.9/site-packages (from trio->selenium==4.0.0a7) (1.10)\n",
      "Requirement already satisfied: attrs>=19.2.0 in ./crawl-venv/lib/python3.9/site-packages (from trio->selenium==4.0.0a7) (22.1.0)\n",
      "Requirement already satisfied: idna in ./crawl-venv/lib/python3.9/site-packages (from trio->selenium==4.0.0a7) (3.4)\n",
      "Requirement already satisfied: sniffio in ./crawl-venv/lib/python3.9/site-packages (from trio->selenium==4.0.0a7) (1.3.0)\n",
      "Requirement already satisfied: exceptiongroup>=1.0.0rc9; python_version < \"3.11\" in ./crawl-venv/lib/python3.9/site-packages (from trio->selenium==4.0.0a7) (1.0.1)\n",
      "Requirement already satisfied: wsproto>=0.14 in ./crawl-venv/lib/python3.9/site-packages (from trio-websocket->selenium==4.0.0a7) (1.2.0)\n",
      "Requirement already satisfied: certifi; extra == \"secure\" in ./crawl-venv/lib/python3.9/site-packages (from urllib3[secure]->selenium==4.0.0a7) (2022.9.24)\n",
      "Collecting pyOpenSSL>=0.14; extra == \"secure\"\n",
      "  Downloading pyOpenSSL-22.1.0-py3-none-any.whl (57 kB)\n",
      "\u001b[K     |████████████████████████████████| 57 kB 20.5 MB/s eta 0:00:01\n",
      "\u001b[?25hCollecting cryptography>=1.3.4; extra == \"secure\"\n",
      "  Downloading cryptography-38.0.3-cp36-abi3-macosx_10_10_x86_64.whl (2.8 MB)\n",
      "\u001b[K     |████████████████████████████████| 2.8 MB 47.0 MB/s eta 0:00:01\n",
      "\u001b[?25hCollecting urllib3-secure-extra; extra == \"secure\"\n",
      "  Downloading urllib3_secure_extra-0.1.0-py2.py3-none-any.whl (1.4 kB)\n",
      "Requirement already satisfied: h11<1,>=0.9.0 in ./crawl-venv/lib/python3.9/site-packages (from wsproto>=0.14->trio-websocket->selenium==4.0.0a7) (0.14.0)\n",
      "Requirement already satisfied: cffi>=1.12 in ./crawl-venv/lib/python3.9/site-packages (from cryptography>=1.3.4; extra == \"secure\"->urllib3[secure]->selenium==4.0.0a7) (1.15.1)\n",
      "Requirement already satisfied: pycparser in ./crawl-venv/lib/python3.9/site-packages (from cffi>=1.12->cryptography>=1.3.4; extra == \"secure\"->urllib3[secure]->selenium==4.0.0a7) (2.21)\n",
      "Installing collected packages: selenium, cryptography, pyOpenSSL, urllib3-secure-extra\n",
      "  Attempting uninstall: selenium\n",
      "    Found existing installation: selenium 4.6.0\n",
      "    Uninstalling selenium-4.6.0:\n",
      "      Successfully uninstalled selenium-4.6.0\n",
      "Successfully installed cryptography-38.0.3 pyOpenSSL-22.1.0 selenium-4.0.0a7 urllib3-secure-extra-0.1.0\n",
      "\u001b[33mWARNING: You are using pip version 20.2.3; however, version 22.3.1 is available.\n",
      "You should consider upgrading via the '/Users/stories2/Documents/GitHub/python-data-crawler/crawl-venv/bin/python3 -m pip install --upgrade pip' command.\u001b[0m\n",
      "Collecting webdriver-manager==3.7.1\n",
      "  Downloading webdriver_manager-3.7.1-py2.py3-none-any.whl (25 kB)\n",
      "Requirement already satisfied: python-dotenv in ./crawl-venv/lib/python3.9/site-packages (from webdriver-manager==3.7.1) (0.21.0)\n",
      "Requirement already satisfied: requests in ./crawl-venv/lib/python3.9/site-packages (from webdriver-manager==3.7.1) (2.28.1)\n",
      "Requirement already satisfied: certifi>=2017.4.17 in ./crawl-venv/lib/python3.9/site-packages (from requests->webdriver-manager==3.7.1) (2022.9.24)\n",
      "Requirement already satisfied: idna<4,>=2.5 in ./crawl-venv/lib/python3.9/site-packages (from requests->webdriver-manager==3.7.1) (3.4)\n",
      "Requirement already satisfied: urllib3<1.27,>=1.21.1 in ./crawl-venv/lib/python3.9/site-packages (from requests->webdriver-manager==3.7.1) (1.26.12)\n",
      "Requirement already satisfied: charset-normalizer<3,>=2 in ./crawl-venv/lib/python3.9/site-packages (from requests->webdriver-manager==3.7.1) (2.1.1)\n",
      "Installing collected packages: webdriver-manager\n",
      "  Attempting uninstall: webdriver-manager\n",
      "    Found existing installation: webdriver-manager 3.8.5\n",
      "    Uninstalling webdriver-manager-3.8.5:\n",
      "      Successfully uninstalled webdriver-manager-3.8.5\n",
      "Successfully installed webdriver-manager-3.7.1\n",
      "\u001b[33mWARNING: You are using pip version 20.2.3; however, version 22.3.1 is available.\n",
      "You should consider upgrading via the '/Users/stories2/Documents/GitHub/python-data-crawler/crawl-venv/bin/python3 -m pip install --upgrade pip' command.\u001b[0m\n"
     ]
    }
   ],
   "source": [
    "!pip3 install selenium==4.0.0a7\n",
    "!pip3 install webdriver-manager==3.7.1"
   ]
  },
  {
   "cell_type": "markdown",
   "id": "18e635c5",
   "metadata": {},
   "source": [
    "https://files.pythonhosted.org/packages/c7/35/721fde638ea1ed2f32851f89544d04dab573ff629496f0275f4e7d5f5f29/selenium-4.6.0-py3-none-any.whl"
   ]
  },
  {
   "cell_type": "code",
   "execution_count": 10,
   "id": "d4886b61",
   "metadata": {},
   "outputs": [
    {
     "name": "stdout",
     "output_type": "stream",
     "text": [
      "Processing ./selenium-4.6.0-py3-none-any.whl\n",
      "Requirement already satisfied: trio-websocket~=0.9 in ./crawl-venv/lib/python3.9/site-packages (from selenium==4.6.0) (0.9.2)\n",
      "Requirement already satisfied: trio~=0.17 in ./crawl-venv/lib/python3.9/site-packages (from selenium==4.6.0) (0.22.0)\n",
      "Requirement already satisfied: urllib3[socks]~=1.26 in ./crawl-venv/lib/python3.9/site-packages (from selenium==4.6.0) (1.26.12)\n",
      "Requirement already satisfied: certifi>=2021.10.8 in ./crawl-venv/lib/python3.9/site-packages (from selenium==4.6.0) (2022.9.24)\n",
      "Requirement already satisfied: async-generator>=1.10 in ./crawl-venv/lib/python3.9/site-packages (from trio-websocket~=0.9->selenium==4.6.0) (1.10)\n",
      "Requirement already satisfied: wsproto>=0.14 in ./crawl-venv/lib/python3.9/site-packages (from trio-websocket~=0.9->selenium==4.6.0) (1.2.0)\n",
      "Requirement already satisfied: sniffio in ./crawl-venv/lib/python3.9/site-packages (from trio~=0.17->selenium==4.6.0) (1.3.0)\n",
      "Requirement already satisfied: attrs>=19.2.0 in ./crawl-venv/lib/python3.9/site-packages (from trio~=0.17->selenium==4.6.0) (22.1.0)\n",
      "Requirement already satisfied: exceptiongroup>=1.0.0rc9; python_version < \"3.11\" in ./crawl-venv/lib/python3.9/site-packages (from trio~=0.17->selenium==4.6.0) (1.0.1)\n",
      "Requirement already satisfied: outcome in ./crawl-venv/lib/python3.9/site-packages (from trio~=0.17->selenium==4.6.0) (1.2.0)\n",
      "Requirement already satisfied: sortedcontainers in ./crawl-venv/lib/python3.9/site-packages (from trio~=0.17->selenium==4.6.0) (2.4.0)\n",
      "Requirement already satisfied: idna in ./crawl-venv/lib/python3.9/site-packages (from trio~=0.17->selenium==4.6.0) (3.4)\n",
      "Requirement already satisfied: PySocks!=1.5.7,<2.0,>=1.5.6; extra == \"socks\" in ./crawl-venv/lib/python3.9/site-packages (from urllib3[socks]~=1.26->selenium==4.6.0) (1.7.1)\n",
      "Requirement already satisfied: h11<1,>=0.9.0 in ./crawl-venv/lib/python3.9/site-packages (from wsproto>=0.14->trio-websocket~=0.9->selenium==4.6.0) (0.14.0)\n",
      "Installing collected packages: selenium\n",
      "  Attempting uninstall: selenium\n",
      "    Found existing installation: selenium 4.0.0a7\n",
      "    Uninstalling selenium-4.0.0a7:\n",
      "      Successfully uninstalled selenium-4.0.0a7\n",
      "Successfully installed selenium-4.6.0\n",
      "\u001b[33mWARNING: You are using pip version 20.2.3; however, version 22.3.1 is available.\n",
      "You should consider upgrading via the '/Users/stories2/Documents/GitHub/python-data-crawler/crawl-venv/bin/python3 -m pip install --upgrade pip' command.\u001b[0m\n"
     ]
    }
   ],
   "source": [
    "!python3 -m pip install ./selenium-4.6.0-py3-none-any.whl"
   ]
  },
  {
   "cell_type": "code",
   "execution_count": 4,
   "id": "68f08182",
   "metadata": {},
   "outputs": [],
   "source": [
    "from selenium import webdriver\n",
    "from selenium.webdriver.common.by import By\n",
    "\n",
    "from webdriver_manager.chrome import ChromeDriverManager\n",
    "from webdriver_manager.core.utils import ChromeType\n",
    "from selenium.webdriver.chrome.options import Options\n",
    "from selenium.webdriver.chrome.service import Service\n",
    "\n",
    "import os\n",
    "\n",
    "from IPython import display\n",
    "from base64 import b64decode\n",
    "\n",
    "chrome_service = Service(ChromeDriverManager().install())"
   ]
  },
  {
   "cell_type": "code",
   "execution_count": 6,
   "id": "6c40ee6a",
   "metadata": {},
   "outputs": [],
   "source": [
    "# Get environment variables\n",
    "IS_GITHUB_ACTION = os.getenv('IS_GITHUB_ACTION')"
   ]
  },
  {
   "cell_type": "code",
   "execution_count": 7,
   "id": "8ed571c7",
   "metadata": {},
   "outputs": [],
   "source": [
    "chrome_options = Options()\n",
    "if IS_GITHUB_ACTION:\n",
    "    options = [\n",
    "        \"--headless\",\n",
    "        \"--disable-gpu\",\n",
    "        \"--window-size=1920,1080\",\n",
    "        \"--ignore-certificate-errors\",\n",
    "        \"--disable-extensions\",\n",
    "        \"--no-sandbox\",\n",
    "        \"--disable-dev-shm-usage\"\n",
    "    ]\n",
    "    user_agent = 'Mozilla/5.0 (X11; Linux x86_64) AppleWebKit/537.36 (KHTML, like Gecko) Chrome/60.0.3112.50 Safari/537.36'    \n",
    "    chrome_options.add_argument('user-agent={0}'.format(user_agent))\n",
    "    for option in options:\n",
    "        chrome_options.add_argument(option)"
   ]
  },
  {
   "cell_type": "code",
   "execution_count": 8,
   "id": "d3a5f9c9",
   "metadata": {},
   "outputs": [],
   "source": [
    "browser = webdriver.Chrome(service=chrome_service, options=chrome_options)\n",
    "browser.set_window_size(1920, 1080)\n",
    "browser.get('https://www.hotelscombined.co.kr/hotels/')"
   ]
  },
  {
   "cell_type": "code",
   "execution_count": null,
   "id": "392836f2",
   "metadata": {},
   "outputs": [],
   "source": []
  }
 ],
 "metadata": {
  "kernelspec": {
   "display_name": "Python 3 (ipykernel)",
   "language": "python",
   "name": "python3"
  },
  "language_info": {
   "codemirror_mode": {
    "name": "ipython",
    "version": 3
   },
   "file_extension": ".py",
   "mimetype": "text/x-python",
   "name": "python",
   "nbconvert_exporter": "python",
   "pygments_lexer": "ipython3",
   "version": "3.9.1"
  }
 },
 "nbformat": 4,
 "nbformat_minor": 5
}
