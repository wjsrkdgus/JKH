{
 "cells": [
  {
   "cell_type": "code",
   "execution_count": 1,
   "id": "4a11617f",
   "metadata": {},
   "outputs": [
    {
     "name": "stdout",
     "output_type": "stream",
     "text": [
      "Defaulting to user installation because normal site-packages is not writeable\n",
      "Collecting selenium==4.6.0\n",
      "  Downloading selenium-4.6.0-py3-none-any.whl (5.2 MB)\n",
      "Requirement already satisfied: trio~=0.17 in c:\\users\\ghjeo\\appdata\\roaming\\python\\python310\\site-packages (from selenium==4.6.0) (0.22.0)\n",
      "Collecting trio-websocket~=0.9\n",
      "  Using cached trio_websocket-0.9.2-py3-none-any.whl (16 kB)\n",
      "Requirement already satisfied: urllib3[socks]~=1.26 in c:\\programdata\\anaconda3\\envs\\nextop_project\\lib\\site-packages (from selenium==4.6.0) (1.26.9)\n",
      "Requirement already satisfied: certifi>=2021.10.8 in c:\\programdata\\anaconda3\\envs\\nextop_project\\lib\\site-packages (from selenium==4.6.0) (2022.9.24)\n",
      "Requirement already satisfied: outcome in c:\\users\\ghjeo\\appdata\\roaming\\python\\python310\\site-packages (from trio~=0.17->selenium==4.6.0) (1.2.0)\n",
      "Requirement already satisfied: exceptiongroup>=1.0.0rc9 in c:\\users\\ghjeo\\appdata\\roaming\\python\\python310\\site-packages (from trio~=0.17->selenium==4.6.0) (1.0.3)\n",
      "Requirement already satisfied: sniffio in c:\\users\\ghjeo\\appdata\\roaming\\python\\python310\\site-packages (from trio~=0.17->selenium==4.6.0) (1.3.0)\n",
      "Requirement already satisfied: async-generator>=1.9 in c:\\users\\ghjeo\\appdata\\roaming\\python\\python310\\site-packages (from trio~=0.17->selenium==4.6.0) (1.10)\n",
      "Requirement already satisfied: idna in c:\\programdata\\anaconda3\\envs\\nextop_project\\lib\\site-packages (from trio~=0.17->selenium==4.6.0) (3.3)\n",
      "Requirement already satisfied: attrs>=19.2.0 in c:\\users\\ghjeo\\appdata\\roaming\\python\\python310\\site-packages (from trio~=0.17->selenium==4.6.0) (22.1.0)\n",
      "Requirement already satisfied: cffi>=1.14 in c:\\programdata\\anaconda3\\envs\\nextop_project\\lib\\site-packages (from trio~=0.17->selenium==4.6.0) (1.15.0)\n",
      "Requirement already satisfied: sortedcontainers in c:\\users\\ghjeo\\appdata\\roaming\\python\\python310\\site-packages (from trio~=0.17->selenium==4.6.0) (2.4.0)\n",
      "Requirement already satisfied: pycparser in c:\\programdata\\anaconda3\\envs\\nextop_project\\lib\\site-packages (from cffi>=1.14->trio~=0.17->selenium==4.6.0) (2.21)\n",
      "Requirement already satisfied: wsproto>=0.14 in c:\\users\\ghjeo\\appdata\\roaming\\python\\python310\\site-packages (from trio-websocket~=0.9->selenium==4.6.0) (1.2.0)\n",
      "Requirement already satisfied: PySocks!=1.5.7,<2.0,>=1.5.6 in c:\\programdata\\anaconda3\\envs\\nextop_project\\lib\\site-packages (from urllib3[socks]~=1.26->selenium==4.6.0) (1.7.1)\n",
      "Requirement already satisfied: h11<1,>=0.9.0 in c:\\users\\ghjeo\\appdata\\roaming\\python\\python310\\site-packages (from wsproto>=0.14->trio-websocket~=0.9->selenium==4.6.0) (0.14.0)\n",
      "Installing collected packages: trio-websocket, selenium\n",
      "Successfully installed selenium-4.6.0 trio-websocket-0.9.2\n",
      "Defaulting to user installation because normal site-packages is not writeable\n",
      "Collecting webdriver-manager==3.7.1\n",
      "  Downloading webdriver_manager-3.7.1-py2.py3-none-any.whl (25 kB)\n",
      "Collecting python-dotenv\n",
      "  Downloading python_dotenv-0.21.0-py3-none-any.whl (18 kB)\n",
      "Collecting requests\n",
      "  Using cached requests-2.28.1-py3-none-any.whl (62 kB)\n",
      "Requirement already satisfied: certifi>=2017.4.17 in c:\\programdata\\anaconda3\\envs\\nextop_project\\lib\\site-packages (from requests->webdriver-manager==3.7.1) (2022.9.24)\n",
      "Requirement already satisfied: urllib3<1.27,>=1.21.1 in c:\\programdata\\anaconda3\\envs\\nextop_project\\lib\\site-packages (from requests->webdriver-manager==3.7.1) (1.26.9)\n",
      "Collecting charset-normalizer<3,>=2\n",
      "  Downloading charset_normalizer-2.1.1-py3-none-any.whl (39 kB)\n",
      "Requirement already satisfied: idna<4,>=2.5 in c:\\programdata\\anaconda3\\envs\\nextop_project\\lib\\site-packages (from requests->webdriver-manager==3.7.1) (3.3)\n",
      "Installing collected packages: charset-normalizer, requests, python-dotenv, webdriver-manager\n",
      "Successfully installed charset-normalizer-2.1.1 python-dotenv-0.21.0 requests-2.28.1 webdriver-manager-3.7.1\n"
     ]
    },
    {
     "name": "stderr",
     "output_type": "stream",
     "text": [
      "  WARNING: The script normalizer.exe is installed in 'C:\\Users\\ghjeo\\AppData\\Roaming\\Python\\Python310\\Scripts' which is not on PATH.\n",
      "  Consider adding this directory to PATH or, if you prefer to suppress this warning, use --no-warn-script-location.\n",
      "  WARNING: The script dotenv.exe is installed in 'C:\\Users\\ghjeo\\AppData\\Roaming\\Python\\Python310\\Scripts' which is not on PATH.\n",
      "  Consider adding this directory to PATH or, if you prefer to suppress this warning, use --no-warn-script-location.\n"
     ]
    }
   ],
   "source": [
    "!pip3 install selenium==4.6.0\n",
    "!pip3 install webdriver-manager==3.7.1"
   ]
  },
  {
   "cell_type": "code",
   "execution_count": 7,
   "id": "105bdf02",
   "metadata": {},
   "outputs": [
    {
     "name": "stdout",
     "output_type": "stream",
     "text": [
      "Python 3.10.8\n"
     ]
    }
   ],
   "source": [
    "!python --version"
   ]
  },
  {
   "cell_type": "code",
   "execution_count": null,
   "id": "981d1717",
   "metadata": {},
   "outputs": [],
   "source": []
  },
  {
   "cell_type": "markdown",
   "id": "18e635c5",
   "metadata": {},
   "source": [
    "https://files.pythonhosted.org/packages/c7/35/721fde638ea1ed2f32851f89544d04dab573ff629496f0275f4e7d5f5f29/selenium-4.6.0-py3-none-any.whl"
   ]
  },
  {
   "cell_type": "code",
   "execution_count": 10,
   "id": "d4886b61",
   "metadata": {},
   "outputs": [
    {
     "name": "stdout",
     "output_type": "stream",
     "text": [
      "Processing ./selenium-4.6.0-py3-none-any.whl\n",
      "Requirement already satisfied: trio-websocket~=0.9 in ./crawl-venv/lib/python3.9/site-packages (from selenium==4.6.0) (0.9.2)\n",
      "Requirement already satisfied: trio~=0.17 in ./crawl-venv/lib/python3.9/site-packages (from selenium==4.6.0) (0.22.0)\n",
      "Requirement already satisfied: urllib3[socks]~=1.26 in ./crawl-venv/lib/python3.9/site-packages (from selenium==4.6.0) (1.26.12)\n",
      "Requirement already satisfied: certifi>=2021.10.8 in ./crawl-venv/lib/python3.9/site-packages (from selenium==4.6.0) (2022.9.24)\n",
      "Requirement already satisfied: async-generator>=1.10 in ./crawl-venv/lib/python3.9/site-packages (from trio-websocket~=0.9->selenium==4.6.0) (1.10)\n",
      "Requirement already satisfied: wsproto>=0.14 in ./crawl-venv/lib/python3.9/site-packages (from trio-websocket~=0.9->selenium==4.6.0) (1.2.0)\n",
      "Requirement already satisfied: sniffio in ./crawl-venv/lib/python3.9/site-packages (from trio~=0.17->selenium==4.6.0) (1.3.0)\n",
      "Requirement already satisfied: attrs>=19.2.0 in ./crawl-venv/lib/python3.9/site-packages (from trio~=0.17->selenium==4.6.0) (22.1.0)\n",
      "Requirement already satisfied: exceptiongroup>=1.0.0rc9; python_version < \"3.11\" in ./crawl-venv/lib/python3.9/site-packages (from trio~=0.17->selenium==4.6.0) (1.0.1)\n",
      "Requirement already satisfied: outcome in ./crawl-venv/lib/python3.9/site-packages (from trio~=0.17->selenium==4.6.0) (1.2.0)\n",
      "Requirement already satisfied: sortedcontainers in ./crawl-venv/lib/python3.9/site-packages (from trio~=0.17->selenium==4.6.0) (2.4.0)\n",
      "Requirement already satisfied: idna in ./crawl-venv/lib/python3.9/site-packages (from trio~=0.17->selenium==4.6.0) (3.4)\n",
      "Requirement already satisfied: PySocks!=1.5.7,<2.0,>=1.5.6; extra == \"socks\" in ./crawl-venv/lib/python3.9/site-packages (from urllib3[socks]~=1.26->selenium==4.6.0) (1.7.1)\n",
      "Requirement already satisfied: h11<1,>=0.9.0 in ./crawl-venv/lib/python3.9/site-packages (from wsproto>=0.14->trio-websocket~=0.9->selenium==4.6.0) (0.14.0)\n",
      "Installing collected packages: selenium\n",
      "  Attempting uninstall: selenium\n",
      "    Found existing installation: selenium 4.0.0a7\n",
      "    Uninstalling selenium-4.0.0a7:\n",
      "      Successfully uninstalled selenium-4.0.0a7\n",
      "Successfully installed selenium-4.6.0\n",
      "\u001b[33mWARNING: You are using pip version 20.2.3; however, version 22.3.1 is available.\n",
      "You should consider upgrading via the '/Users/stories2/Documents/GitHub/python-data-crawler/crawl-venv/bin/python3 -m pip install --upgrade pip' command.\u001b[0m\n"
     ]
    }
   ],
   "source": [
    "!python3 -m pip install ./selenium-4.6.0-py3-none-any.whl"
   ]
  },
  {
   "cell_type": "code",
   "execution_count": 2,
   "id": "68f08182",
   "metadata": {},
   "outputs": [
    {
     "name": "stdout",
     "output_type": "stream",
     "text": [
      "\n"
     ]
    },
    {
     "name": "stderr",
     "output_type": "stream",
     "text": [
      "[WDM] - ====== WebDriver manager ======\n",
      "[WDM] - Current google-chrome version is 107.0.5304\n",
      "[WDM] - Get LATEST chromedriver version for 107.0.5304 google-chrome\n",
      "[WDM] - There is no [win32] chromedriver for browser 107.0.5304 in cache\n",
      "[WDM] - About to download new driver from https://chromedriver.storage.googleapis.com/107.0.5304.62/chromedriver_win32.zip\n",
      "[WDM] - Driver has been saved in cache [C:\\Users\\ghjeo\\.wdm\\drivers\\chromedriver\\win32\\107.0.5304.62]\n"
     ]
    }
   ],
   "source": [
    "from selenium import webdriver\n",
    "from selenium.webdriver.common.by import By\n",
    "\n",
    "from webdriver_manager.chrome import ChromeDriverManager\n",
    "from webdriver_manager.core.utils import ChromeType\n",
    "from selenium.webdriver.chrome.options import Options\n",
    "from selenium.webdriver.chrome.service import Service\n",
    "\n",
    "import os\n",
    "\n",
    "from IPython import display\n",
    "from base64 import b64decode\n",
    "\n",
    "chrome_service = Service(ChromeDriverManager().install())"
   ]
  },
  {
   "cell_type": "code",
   "execution_count": 3,
   "id": "6c40ee6a",
   "metadata": {},
   "outputs": [],
   "source": [
    "# Get environment variables\n",
    "IS_GITHUB_ACTION = os.getenv('IS_GITHUB_ACTION')"
   ]
  },
  {
   "cell_type": "code",
   "execution_count": 5,
   "id": "8ed571c7",
   "metadata": {},
   "outputs": [],
   "source": [
    "chrome_options = Options()\n",
    "if IS_GITHUB_ACTION:\n",
    "    options = [\n",
    "        \"--headless\",\n",
    "        \"--disable-gpu\",\n",
    "        \"--window-size=1920,1080\",\n",
    "        \"--ignore-certificate-errors\",\n",
    "        \"--disable-extensions\",\n",
    "        \"--no-sandbox\",\n",
    "        \"--disable-dev-shm-usage\"\n",
    "    ]\n",
    "    user_agent = 'Mozilla/5.0 (X11; Linux x86_64) AppleWebKit/537.36 (KHTML, like Gecko) Chrome/60.0.3112.50 Safari/537.36'    \n",
    "    chrome_options.add_argument('user-agent={0}'.format(user_agent))\n",
    "    for option in options:\n",
    "        chrome_options.add_argument(option)"
   ]
  },
  {
   "cell_type": "code",
   "execution_count": 6,
   "id": "d3a5f9c9",
   "metadata": {},
   "outputs": [],
   "source": [
    "browser = webdriver.Chrome(service=chrome_service, options=chrome_options)\n",
    "browser.set_window_size(1920, 1080)\n",
    "browser.get('https://www.hotelscombined.co.kr/hotels/')"
   ]
  },
  {
   "cell_type": "code",
   "execution_count": null,
   "id": "392836f2",
   "metadata": {},
   "outputs": [],
   "source": []
  }
 ],
 "metadata": {
  "kernelspec": {
   "display_name": "Python 3.8.15 ('nextop_project')",
   "language": "python",
   "name": "python3"
  },
  "language_info": {
   "codemirror_mode": {
    "name": "ipython",
    "version": 3
   },
   "file_extension": ".py",
   "mimetype": "text/x-python",
   "name": "python",
   "nbconvert_exporter": "python",
   "pygments_lexer": "ipython3",
   "version": "3.10.8"
  },
  "vscode": {
   "interpreter": {
    "hash": "4e10fcba4af91c07a120958ff8a3e77dc5003b9ab225e86fc35933a84ede6fda"
   }
  }
 },
 "nbformat": 4,
 "nbformat_minor": 5
}
